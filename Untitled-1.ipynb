{
 "cells": [
  {
   "cell_type": "code",
   "execution_count": 28,
   "metadata": {},
   "outputs": [
    {
     "name": "stdout",
     "output_type": "stream",
     "text": [
      "{\"ref\":\"ef0f7d44-6fe1-468a-825c-09141a3312b4\",\"success\":\"ID card files uploaded successfully\"}\n",
      "\n"
     ]
    }
   ],
   "source": [
    "import requests\n",
    "\n",
    "# Define the URL endpoint\n",
    "url = 'http://127.0.0.1:5000/upload'\n",
    "\n",
    "# Define the files to be uploaded\n",
    "files = {\n",
    "    'front': open('C:/Users/Urgent2kServer/Downloads/data processing/web_1.jpg', 'rb'),\n",
    "    'back': open('C:/Users/Urgent2kServer/Downloads/data processing/web_1.jpg', 'rb')\n",
    "}\n",
    "\n",
    "# Define the headers with firstname, lastname, and file type\n",
    "headers = {\n",
    "    'first-name': 'John',\n",
    "    'last-name': 'Doe',\n",
    "    \"file-type\": 'idcard'\n",
    "}\n",
    "\n",
    "# Send the POST request with files and headers\n",
    "response = requests.post(url, files=files, headers=headers)\n",
    "\n",
    "# Check the response\n",
    "if response.status_code == 200:\n",
    "    print(f\"{response.text}\")\n",
    "else:\n",
    "    print(\"Error uploading files:\", response.text)\n"
   ]
  }
 ],
 "metadata": {
  "kernelspec": {
   "display_name": "Python 3",
   "language": "python",
   "name": "python3"
  },
  "language_info": {
   "codemirror_mode": {
    "name": "ipython",
    "version": 3
   },
   "file_extension": ".py",
   "mimetype": "text/x-python",
   "name": "python",
   "nbconvert_exporter": "python",
   "pygments_lexer": "ipython3",
   "version": "3.12.2"
  }
 },
 "nbformat": 4,
 "nbformat_minor": 2
}
